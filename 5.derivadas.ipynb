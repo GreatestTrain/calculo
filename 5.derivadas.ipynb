{
 "cells": [
  {
   "cell_type": "markdown",
   "metadata": {},
   "source": [
    "**Derivadas**\n",
    "-\n",
    "---"
   ]
  },
  {
   "cell_type": "markdown",
   "metadata": {},
   "source": [
    "#### **Operaciones**\n",
    "+ Suma (o resta)\n",
    "    $$ (f+g)'(x) = f'(x)+g'(x) $$\n",
    "+ Producto\n",
    "    $$ (f·g)'(x) = f'(x)·g(x) + f(x)·g'(x) $$\n",
    "+ Cociente\n",
    "    $$ \\left(\\frac{f(x)}{g(x)}\\right)' = \\frac{f'(x)g(x)-f(x)g'(x)}{g(x)^2} $$\n",
    "+ Regla de la cadena\n",
    "    $$ (f ∘ g)'(x) = f'(g(x)) · g'(x)$$"
   ]
  },
  {
   "cell_type": "code",
   "execution_count": 2,
   "metadata": {},
   "outputs": [],
   "source": [
    "## Importacion\n",
    "import math\n",
    "from math import *\n",
    "import sympy as sp"
   ]
  },
  {
   "cell_type": "code",
   "execution_count": 3,
   "metadata": {},
   "outputs": [],
   "source": [
    "## Definicion de funcion derivadora\n",
    "def deriv(expr):\n",
    "    x = sp.Symbol('x')\n",
    "    return sp.Derivative(expr, evaluate=True)"
   ]
  },
  {
   "cell_type": "code",
   "execution_count": 9,
   "metadata": {},
   "outputs": [
    {
     "data": {
      "text/latex": [
       "$\\displaystyle 2 \\cdot 3^{2 x} \\log{\\left(3 \\right)} - \\sin{\\left(x \\right)} + 3$"
      ],
      "text/plain": [
       "2*3**(2*x)*log(3) - sin(x) + 3"
      ]
     },
     "execution_count": 9,
     "metadata": {},
     "output_type": "execute_result"
    }
   ],
   "source": [
    "expresion = \"cos(x)+3**(2*x)+3*x\"\n",
    "deriv(expresion)"
   ]
  }
 ],
 "metadata": {
  "interpreter": {
   "hash": "40045ba4287eb5f67feca55db0927d249762f6e31a023956f349261635c9fa11"
  },
  "kernelspec": {
   "display_name": "Python 3.10.2 ('ds')",
   "language": "python",
   "name": "python3"
  },
  "language_info": {
   "codemirror_mode": {
    "name": "ipython",
    "version": 3
   },
   "file_extension": ".py",
   "mimetype": "text/x-python",
   "name": "python",
   "nbconvert_exporter": "python",
   "pygments_lexer": "ipython3",
   "version": "3.10.2"
  },
  "orig_nbformat": 4
 },
 "nbformat": 4,
 "nbformat_minor": 2
}
